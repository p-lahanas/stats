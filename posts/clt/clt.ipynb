{
 "cells": [
  {
   "cell_type": "raw",
   "id": "8ac806c2",
   "metadata": {
    "vscode": {
     "languageId": "raw"
    }
   },
   "source": [
    "---\n",
    "title: \"Central Limit Theorem (CLT)\"\n",
    "author: \"Peter Lahanas\"\n",
    "date: \"2025-08-09\"\n",
    "categories: [write-up, theory]\n",
    "jupyter: \"python3\"\n",
    "---"
   ]
  },
  {
   "cell_type": "markdown",
   "id": "54a60b21",
   "metadata": {},
   "source": [
    "Why do so many things seem to follow some sort of a normal distribution? Well, one possible explanation is the central limit theorem.\n",
    "\n",
    "##### Formally:\n",
    "Let's define a set of independent random variables $\\{X_{1},X_{2},..., X_{n}\\}$ which are identically distributed, have a mean $\\mu=0$ and variance $\\sigma^2=1$. If we define $\\bar X_n = \\frac{1}{n} \\sum_{i=0}^{n} X_i$, we can say that the normalised mean $\\sqrt{n}(\\bar X_n - \\mu)$ approaches the normal distribution while n approaches infinity.\n",
    "\n",
    "$$\\sqrt{n}(\\bar X_n - \\mu) \\xrightarrow{d} \\mathcal{N}(0,\\sigma^2)$$\n",
    "\n",
    "##### More simply:\n",
    "The sampling distribution of a sample mean is approximately normal if the sample size is large enough. So, if we calculate many sample means over a distribution (regardless of the distribution), the distribution of the sample means will be somewhat normally distributed.\n",
    "\n",
    "Let's give it a try:"
   ]
  },
  {
   "cell_type": "code",
   "execution_count": 2,
   "id": "aedc1c40",
   "metadata": {},
   "outputs": [
    {
     "data": {
      "text/plain": [
       "<Axes: ylabel='Count'>"
      ]
     },
     "execution_count": 2,
     "metadata": {},
     "output_type": "execute_result"
    },
    {
     "data": {
      "image/png": "[encoded data removed]",
      "text/plain": [
       "<Figure size 640x480 with 1 Axes>"
      ]
     },
     "metadata": {},
     "output_type": "display_data"
    }
   ],
   "source": [
    "# | label: fig-polar\n",
    "# | fig-cap: \"The distribution of sample means from an underlying uniform distribution\"\n",
    "\n",
    "import numpy as np\n",
    "import seaborn as sns\n",
    "\n",
    "# Generate a sample mean from a uniform distribution\n",
    "def generate_sample_mean_uniform(num_samples:int =100) -> np.ndarray:\n",
    "    return np.random.randint(1,20, size=num_samples).mean()\n",
    "\n",
    "# Generate multiple sample means from our uniform distribution\n",
    "def generate_sample_means_uniform(samples: int = 500) -> np.ndarray:\n",
    "    return np.array([generate_sample_mean_uniform() for _ in range(samples)])\n",
    "\n",
    "\n",
    "sns.histplot(generate_sample_means_uniform())\n"
   ]
  }
 ],
 "metadata": {
  "kernelspec": {
   "display_name": "venv (3.10.12)",
   "language": "python",
   "name": "python3"
  },
  "language_info": {
   "codemirror_mode": {
    "name": "ipython",
    "version": 3
   },
   "file_extension": ".py",
   "mimetype": "text/x-python",
   "name": "python",
   "nbconvert_exporter": "python",
   "pygments_lexer": "ipython3",
   "version": "3.10.12"
  }
 },
 "nbformat": 4,
 "nbformat_minor": 5
}
